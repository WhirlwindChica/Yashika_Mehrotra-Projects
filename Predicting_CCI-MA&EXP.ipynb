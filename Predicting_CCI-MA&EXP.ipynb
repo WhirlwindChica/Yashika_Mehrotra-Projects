{
 "cells": [
  {
   "cell_type": "markdown",
   "id": "5d65e1bf",
   "metadata": {},
   "source": [
    "#### SUBMITTED BY\n"
   ]
  },
  {
   "cell_type": "markdown",
   "id": "0b8af2b7",
   "metadata": {},
   "source": [
    "### PROJECT - CCI DATASET"
   ]
  },
  {
   "cell_type": "markdown",
   "id": "daf0476e",
   "metadata": {},
   "source": [
    "### Importing Packages"
   ]
  },
  {
   "cell_type": "code",
   "execution_count": 208,
   "id": "1fcac7c7",
   "metadata": {},
   "outputs": [],
   "source": [
    "#importing packages\n",
    "import pandas as pd\n",
    "import numpy as np\n",
    "\n",
    "import matplotlib.pyplot as plt\n",
    "%matplotlib inline\n",
    "\n",
    "import seaborn as sns\n",
    "\n",
    "import statsmodels.api as sm\n",
    "from statsmodels.tsa.seasonal import seasonal_decompose"
   ]
  },
  {
   "cell_type": "markdown",
   "id": "5f95c6e0",
   "metadata": {},
   "source": [
    "### Reading the File"
   ]
  },
  {
   "cell_type": "code",
   "execution_count": 209,
   "id": "d83f8a81",
   "metadata": {},
   "outputs": [],
   "source": [
    "df=pd.read_excel(r'C:\\Users\\Shilpi\\OneDrive\\Desktop\\PROJECTS\\TIME SERIES\\CCI.xlsx')"
   ]
  },
  {
   "cell_type": "markdown",
   "id": "a30dfaca",
   "metadata": {},
   "source": [
    "### PART 1 : Exploratory Data Analysis"
   ]
  },
  {
   "cell_type": "code",
   "execution_count": 210,
   "id": "7d7d338f",
   "metadata": {},
   "outputs": [
    {
     "data": {
      "text/plain": [
       "(105, 2)"
      ]
     },
     "execution_count": 210,
     "metadata": {},
     "output_type": "execute_result"
    }
   ],
   "source": [
    "df.shape"
   ]
  },
  {
   "cell_type": "code",
   "execution_count": 211,
   "id": "83269f49",
   "metadata": {},
   "outputs": [
    {
     "data": {
      "text/plain": [
       "Index(['TIME', 'CONSUMER CONF INDEX'], dtype='object')"
      ]
     },
     "execution_count": 211,
     "metadata": {},
     "output_type": "execute_result"
    }
   ],
   "source": [
    " df.columns"
   ]
  },
  {
   "cell_type": "code",
   "execution_count": 212,
   "id": "7583b246",
   "metadata": {},
   "outputs": [
    {
     "data": {
      "text/plain": [
       "TIME                   datetime64[ns]\n",
       "CONSUMER CONF INDEX           float64\n",
       "dtype: object"
      ]
     },
     "execution_count": 212,
     "metadata": {},
     "output_type": "execute_result"
    }
   ],
   "source": [
    "df.dtypes"
   ]
  },
  {
   "cell_type": "code",
   "execution_count": 213,
   "id": "c351f3bb",
   "metadata": {},
   "outputs": [
    {
     "name": "stdout",
     "output_type": "stream",
     "text": [
      "<class 'pandas.core.frame.DataFrame'>\n",
      "RangeIndex: 105 entries, 0 to 104\n",
      "Data columns (total 2 columns):\n",
      " #   Column               Non-Null Count  Dtype         \n",
      "---  ------               --------------  -----         \n",
      " 0   TIME                 105 non-null    datetime64[ns]\n",
      " 1   CONSUMER CONF INDEX  105 non-null    float64       \n",
      "dtypes: datetime64[ns](1), float64(1)\n",
      "memory usage: 1.8 KB\n"
     ]
    }
   ],
   "source": [
    "df.info()\n"
   ]
  },
  {
   "cell_type": "code",
   "execution_count": 214,
   "id": "c1cbc733",
   "metadata": {},
   "outputs": [
    {
     "data": {
      "text/html": [
       "<div>\n",
       "<style scoped>\n",
       "    .dataframe tbody tr th:only-of-type {\n",
       "        vertical-align: middle;\n",
       "    }\n",
       "\n",
       "    .dataframe tbody tr th {\n",
       "        vertical-align: top;\n",
       "    }\n",
       "\n",
       "    .dataframe thead th {\n",
       "        text-align: right;\n",
       "    }\n",
       "</style>\n",
       "<table border=\"1\" class=\"dataframe\">\n",
       "  <thead>\n",
       "    <tr style=\"text-align: right;\">\n",
       "      <th></th>\n",
       "      <th>CONSUMER CONF INDEX</th>\n",
       "    </tr>\n",
       "  </thead>\n",
       "  <tbody>\n",
       "    <tr>\n",
       "      <th>count</th>\n",
       "      <td>105.00</td>\n",
       "    </tr>\n",
       "    <tr>\n",
       "      <th>mean</th>\n",
       "      <td>100.12</td>\n",
       "    </tr>\n",
       "    <tr>\n",
       "      <th>std</th>\n",
       "      <td>1.45</td>\n",
       "    </tr>\n",
       "    <tr>\n",
       "      <th>min</th>\n",
       "      <td>95.97</td>\n",
       "    </tr>\n",
       "    <tr>\n",
       "      <th>25%</th>\n",
       "      <td>99.33</td>\n",
       "    </tr>\n",
       "    <tr>\n",
       "      <th>50%</th>\n",
       "      <td>100.65</td>\n",
       "    </tr>\n",
       "    <tr>\n",
       "      <th>75%</th>\n",
       "      <td>101.23</td>\n",
       "    </tr>\n",
       "    <tr>\n",
       "      <th>max</th>\n",
       "      <td>101.64</td>\n",
       "    </tr>\n",
       "  </tbody>\n",
       "</table>\n",
       "</div>"
      ],
      "text/plain": [
       "       CONSUMER CONF INDEX\n",
       "count               105.00\n",
       "mean                100.12\n",
       "std                   1.45\n",
       "min                  95.97\n",
       "25%                  99.33\n",
       "50%                 100.65\n",
       "75%                 101.23\n",
       "max                 101.64"
      ]
     },
     "execution_count": 214,
     "metadata": {},
     "output_type": "execute_result"
    }
   ],
   "source": [
    "round(df.describe(),3)\n",
    "     "
   ]
  },
  {
   "cell_type": "code",
   "execution_count": 215,
   "id": "b6ba7570",
   "metadata": {},
   "outputs": [
    {
     "name": "stderr",
     "output_type": "stream",
     "text": [
      "C:\\Users\\Shilpi\\anaconda3\\lib\\site-packages\\seaborn\\distributions.py:2619: FutureWarning: `distplot` is a deprecated function and will be removed in a future version. Please adapt your code to use either `displot` (a figure-level function with similar flexibility) or `histplot` (an axes-level function for histograms).\n",
      "  warnings.warn(msg, FutureWarning)\n"
     ]
    },
    {
     "data": {
      "text/plain": [
       "<AxesSubplot:xlabel='CONSUMER CONF INDEX', ylabel='Density'>"
      ]
     },
     "execution_count": 215,
     "metadata": {},
     "output_type": "execute_result"
    },
    {
     "data": {
      "image/png": "[encoded data removed]",
      "text/plain": [
       "<Figure size 432x288 with 1 Axes>"
      ]
     },
     "metadata": {
      "needs_background": "light"
     },
     "output_type": "display_data"
    }
   ],
   "source": [
    "sns.distplot(df['CONSUMER CONF INDEX'])"
   ]
  },
  {
   "cell_type": "code",
   "execution_count": 216,
   "id": "d92b85a8",
   "metadata": {},
   "outputs": [],
   "source": [
    "def outliers(col):\n",
    "    sorted(col)\n",
    "    Q1,Q3= np.percentile(col,[25,75])\n",
    "    IQR = Q3 - Q1\n",
    "    LOWER_RANGE = Q1 - (1.5*IQR)\n",
    "    UPPER_RANGE= Q3 + (1.5*IQR)\n",
    "    return  LOWER_RANGE,UPPER_RANGE"
   ]
  },
  {
   "cell_type": "code",
   "execution_count": 217,
   "id": "debf0c5f",
   "metadata": {},
   "outputs": [
    {
     "data": {
      "text/plain": [
       "<AxesSubplot:xlabel='CONSUMER CONF INDEX'>"
      ]
     },
     "execution_count": 217,
     "metadata": {},
     "output_type": "execute_result"
    },
    {
     "data": {
      "image/png": "[encoded data removed]",
      "text/plain": [
       "<Figure size 432x288 with 1 Axes>"
      ]
     },
     "metadata": {
      "needs_background": "light"
     },
     "output_type": "display_data"
    }
   ],
   "source": [
    "sns.boxplot(x=df['CONSUMER CONF INDEX'])"
   ]
  },
  {
   "cell_type": "code",
   "execution_count": 218,
   "id": "e83e29a5",
   "metadata": {},
   "outputs": [
    {
     "name": "stdout",
     "output_type": "stream",
     "text": [
      "lower range 96.49880000000002 and upper range 104.06232\n"
     ]
    }
   ],
   "source": [
    "#Check the lower range and upper range for the variable with zscore\n",
    "LOWER_RANGE,UPPER_RANGE=outliers(df['CONSUMER CONF INDEX'])\n",
    "print(\"lower range\",LOWER_RANGE, \"and upper range\", UPPER_RANGE)\n",
    "#Capping the outliers\n",
    "df['CONSUMER CONF INDEX'] = np.where(df['CONSUMER CONF INDEX']>UPPER_RANGE,UPPER_RANGE,df['CONSUMER CONF INDEX'])\n",
    "df['CONSUMER CONF INDEX'] = np.where(df['CONSUMER CONF INDEX']<LOWER_RANGE,LOWER_RANGE,df['CONSUMER CONF INDEX'])"
   ]
  },
  {
   "cell_type": "code",
   "execution_count": 219,
   "id": "b6ad2fb4",
   "metadata": {},
   "outputs": [
    {
     "data": {
      "text/plain": [
       "<AxesSubplot:xlabel='CONSUMER CONF INDEX'>"
      ]
     },
     "execution_count": 219,
     "metadata": {},
     "output_type": "execute_result"
    },
    {
     "data": {
      "image/png": "[encoded data removed]",
      "text/plain": [
       "<Figure size 432x288 with 1 Axes>"
      ]
     },
     "metadata": {
      "needs_background": "light"
     },
     "output_type": "display_data"
    }
   ],
   "source": [
    "sns.boxplot(x=df['CONSUMER CONF INDEX'])"
   ]
  },
  {
   "cell_type": "code",
   "execution_count": 227,
   "id": "525f3d66",
   "metadata": {},
   "outputs": [],
   "source": [
    "df = df.set_index(\"TIME\")"
   ]
  },
  {
   "cell_type": "code",
   "execution_count": 228,
   "id": "063766ca",
   "metadata": {},
   "outputs": [
    {
     "name": "stderr",
     "output_type": "stream",
     "text": [
      "No artists with labels found to put in legend.  Note that artists whose label start with an underscore are ignored when legend() is called with no argument.\n"
     ]
    },
    {
     "data": {
      "text/plain": [
       "<matplotlib.legend.Legend at 0x18974344250>"
      ]
     },
     "execution_count": 228,
     "metadata": {},
     "output_type": "execute_result"
    },
    {
     "data": {
      "image/png": "[encoded data removed]",
      "text/plain": [
       "<Figure size 720x288 with 1 Axes>"
      ]
     },
     "metadata": {
      "needs_background": "light"
     },
     "output_type": "display_data"
    }
   ],
   "source": [
    "plt.figure( figsize=(10,4))\n",
    "plt.xlabel( \"TIME\" )\n",
    "plt.ylabel( \"CONSUMER CONF INDEX\" )\n",
    "plt.plot( df['CONSUMER CONF INDEX'] )\n",
    "plt.legend()"
   ]
  },
  {
   "cell_type": "markdown",
   "id": "4e0cd7f4",
   "metadata": {},
   "source": [
    "### MOVING AVERAGE"
   ]
  },
  {
   "cell_type": "code",
   "execution_count": 229,
   "id": "3832bf46",
   "metadata": {},
   "outputs": [
    {
     "data": {
      "text/html": [
       "<div>\n",
       "<style scoped>\n",
       "    .dataframe tbody tr th:only-of-type {\n",
       "        vertical-align: middle;\n",
       "    }\n",
       "\n",
       "    .dataframe tbody tr th {\n",
       "        vertical-align: top;\n",
       "    }\n",
       "\n",
       "    .dataframe thead th {\n",
       "        text-align: right;\n",
       "    }\n",
       "</style>\n",
       "<table border=\"1\" class=\"dataframe\">\n",
       "  <thead>\n",
       "    <tr style=\"text-align: right;\">\n",
       "      <th></th>\n",
       "      <th>CONSUMER CONF INDEX</th>\n",
       "      <th>mavg_2</th>\n",
       "    </tr>\n",
       "    <tr>\n",
       "      <th>TIME</th>\n",
       "      <th></th>\n",
       "      <th></th>\n",
       "    </tr>\n",
       "  </thead>\n",
       "  <tbody>\n",
       "    <tr>\n",
       "      <th>2020-04-01</th>\n",
       "      <td>99.04</td>\n",
       "      <td>100.66</td>\n",
       "    </tr>\n",
       "    <tr>\n",
       "      <th>2020-05-01</th>\n",
       "      <td>98.53</td>\n",
       "      <td>99.60</td>\n",
       "    </tr>\n",
       "    <tr>\n",
       "      <th>2020-06-01</th>\n",
       "      <td>98.48</td>\n",
       "      <td>98.79</td>\n",
       "    </tr>\n",
       "    <tr>\n",
       "      <th>2020-07-01</th>\n",
       "      <td>98.50</td>\n",
       "      <td>98.51</td>\n",
       "    </tr>\n",
       "    <tr>\n",
       "      <th>2020-08-01</th>\n",
       "      <td>98.71</td>\n",
       "      <td>98.49</td>\n",
       "    </tr>\n",
       "    <tr>\n",
       "      <th>2020-09-01</th>\n",
       "      <td>99.02</td>\n",
       "      <td>98.60</td>\n",
       "    </tr>\n",
       "    <tr>\n",
       "      <th>2020-10-01</th>\n",
       "      <td>99.18</td>\n",
       "      <td>98.87</td>\n",
       "    </tr>\n",
       "    <tr>\n",
       "      <th>2020-11-01</th>\n",
       "      <td>99.13</td>\n",
       "      <td>99.10</td>\n",
       "    </tr>\n",
       "    <tr>\n",
       "      <th>2020-12-01</th>\n",
       "      <td>99.14</td>\n",
       "      <td>99.15</td>\n",
       "    </tr>\n",
       "    <tr>\n",
       "      <th>2021-01-01</th>\n",
       "      <td>99.14</td>\n",
       "      <td>99.13</td>\n",
       "    </tr>\n",
       "    <tr>\n",
       "      <th>2021-02-01</th>\n",
       "      <td>99.28</td>\n",
       "      <td>99.14</td>\n",
       "    </tr>\n",
       "    <tr>\n",
       "      <th>2021-03-01</th>\n",
       "      <td>99.66</td>\n",
       "      <td>99.21</td>\n",
       "    </tr>\n",
       "    <tr>\n",
       "      <th>2021-04-01</th>\n",
       "      <td>99.91</td>\n",
       "      <td>99.47</td>\n",
       "    </tr>\n",
       "    <tr>\n",
       "      <th>2021-05-01</th>\n",
       "      <td>99.85</td>\n",
       "      <td>99.78</td>\n",
       "    </tr>\n",
       "    <tr>\n",
       "      <th>2021-06-01</th>\n",
       "      <td>99.63</td>\n",
       "      <td>99.88</td>\n",
       "    </tr>\n",
       "    <tr>\n",
       "      <th>2021-07-01</th>\n",
       "      <td>99.16</td>\n",
       "      <td>99.74</td>\n",
       "    </tr>\n",
       "    <tr>\n",
       "      <th>2021-08-01</th>\n",
       "      <td>98.57</td>\n",
       "      <td>99.39</td>\n",
       "    </tr>\n",
       "    <tr>\n",
       "      <th>2021-09-01</th>\n",
       "      <td>98.27</td>\n",
       "      <td>98.87</td>\n",
       "    </tr>\n",
       "    <tr>\n",
       "      <th>2021-10-01</th>\n",
       "      <td>98.08</td>\n",
       "      <td>98.42</td>\n",
       "    </tr>\n",
       "    <tr>\n",
       "      <th>2021-11-01</th>\n",
       "      <td>97.91</td>\n",
       "      <td>98.17</td>\n",
       "    </tr>\n",
       "    <tr>\n",
       "      <th>2021-12-01</th>\n",
       "      <td>97.81</td>\n",
       "      <td>98.00</td>\n",
       "    </tr>\n",
       "    <tr>\n",
       "      <th>2022-01-01</th>\n",
       "      <td>97.57</td>\n",
       "      <td>97.86</td>\n",
       "    </tr>\n",
       "    <tr>\n",
       "      <th>2022-02-01</th>\n",
       "      <td>97.26</td>\n",
       "      <td>97.69</td>\n",
       "    </tr>\n",
       "    <tr>\n",
       "      <th>2022-03-01</th>\n",
       "      <td>97.01</td>\n",
       "      <td>97.41</td>\n",
       "    </tr>\n",
       "    <tr>\n",
       "      <th>2022-04-01</th>\n",
       "      <td>96.84</td>\n",
       "      <td>97.14</td>\n",
       "    </tr>\n",
       "    <tr>\n",
       "      <th>2022-05-01</th>\n",
       "      <td>96.50</td>\n",
       "      <td>96.93</td>\n",
       "    </tr>\n",
       "    <tr>\n",
       "      <th>2022-06-01</th>\n",
       "      <td>96.50</td>\n",
       "      <td>96.67</td>\n",
       "    </tr>\n",
       "    <tr>\n",
       "      <th>2022-07-01</th>\n",
       "      <td>96.50</td>\n",
       "      <td>96.50</td>\n",
       "    </tr>\n",
       "    <tr>\n",
       "      <th>2022-08-01</th>\n",
       "      <td>96.50</td>\n",
       "      <td>96.50</td>\n",
       "    </tr>\n",
       "    <tr>\n",
       "      <th>2022-09-01</th>\n",
       "      <td>96.66</td>\n",
       "      <td>96.50</td>\n",
       "    </tr>\n",
       "  </tbody>\n",
       "</table>\n",
       "</div>"
      ],
      "text/plain": [
       "            CONSUMER CONF INDEX  mavg_2\n",
       "TIME                                   \n",
       "2020-04-01                99.04  100.66\n",
       "2020-05-01                98.53   99.60\n",
       "2020-06-01                98.48   98.79\n",
       "2020-07-01                98.50   98.51\n",
       "2020-08-01                98.71   98.49\n",
       "2020-09-01                99.02   98.60\n",
       "2020-10-01                99.18   98.87\n",
       "2020-11-01                99.13   99.10\n",
       "2020-12-01                99.14   99.15\n",
       "2021-01-01                99.14   99.13\n",
       "2021-02-01                99.28   99.14\n",
       "2021-03-01                99.66   99.21\n",
       "2021-04-01                99.91   99.47\n",
       "2021-05-01                99.85   99.78\n",
       "2021-06-01                99.63   99.88\n",
       "2021-07-01                99.16   99.74\n",
       "2021-08-01                98.57   99.39\n",
       "2021-09-01                98.27   98.87\n",
       "2021-10-01                98.08   98.42\n",
       "2021-11-01                97.91   98.17\n",
       "2021-12-01                97.81   98.00\n",
       "2022-01-01                97.57   97.86\n",
       "2022-02-01                97.26   97.69\n",
       "2022-03-01                97.01   97.41\n",
       "2022-04-01                96.84   97.14\n",
       "2022-05-01                96.50   96.93\n",
       "2022-06-01                96.50   96.67\n",
       "2022-07-01                96.50   96.50\n",
       "2022-08-01                96.50   96.50\n",
       "2022-09-01                96.66   96.50"
      ]
     },
     "execution_count": 229,
     "metadata": {},
     "output_type": "execute_result"
    }
   ],
   "source": [
    "df['mavg_2'] = df['CONSUMER CONF INDEX'].rolling( window =2).mean().shift(1)\n",
    "pd.set_option('display.float_format', lambda x: '%.2f' % x)\n",
    "df[['CONSUMER CONF INDEX', 'mavg_2']][63:]"
   ]
  },
  {
   "cell_type": "code",
   "execution_count": 230,
   "id": "149792a2",
   "metadata": {},
   "outputs": [
    {
     "name": "stderr",
     "output_type": "stream",
     "text": [
      "No artists with labels found to put in legend.  Note that artists whose label start with an underscore are ignored when legend() is called with no argument.\n"
     ]
    },
    {
     "data": {
      "image/png": "[encoded data removed]",
      "text/plain": [
       "<Figure size 1080x288 with 1 Axes>"
      ]
     },
     "metadata": {
      "needs_background": "light"
     },
     "output_type": "display_data"
    }
   ],
   "source": [
    "plt.figure( figsize=(15,4))\n",
    "plt.ylabel( \"CONSUMER CONF INDEX\" )\n",
    "plt.xlabel( \"TIME\" )\n",
    "plt.plot( df['CONSUMER CONF INDEX'][63:] );\n",
    "plt.plot( df['mavg_2'][63:]);\n",
    "plt.legend();"
   ]
  },
  {
   "cell_type": "code",
   "execution_count": 231,
   "id": "48c9e026",
   "metadata": {},
   "outputs": [
    {
     "data": {
      "text/html": [
       "<div>\n",
       "<style scoped>\n",
       "    .dataframe tbody tr th:only-of-type {\n",
       "        vertical-align: middle;\n",
       "    }\n",
       "\n",
       "    .dataframe tbody tr th {\n",
       "        vertical-align: top;\n",
       "    }\n",
       "\n",
       "    .dataframe thead th {\n",
       "        text-align: right;\n",
       "    }\n",
       "</style>\n",
       "<table border=\"1\" class=\"dataframe\">\n",
       "  <thead>\n",
       "    <tr style=\"text-align: right;\">\n",
       "      <th></th>\n",
       "      <th>CONSUMER CONF INDEX</th>\n",
       "      <th>mavg_4</th>\n",
       "    </tr>\n",
       "    <tr>\n",
       "      <th>TIME</th>\n",
       "      <th></th>\n",
       "      <th></th>\n",
       "    </tr>\n",
       "  </thead>\n",
       "  <tbody>\n",
       "    <tr>\n",
       "      <th>2020-04-01</th>\n",
       "      <td>99.04</td>\n",
       "      <td>101.13</td>\n",
       "    </tr>\n",
       "    <tr>\n",
       "      <th>2020-05-01</th>\n",
       "      <td>98.53</td>\n",
       "      <td>100.49</td>\n",
       "    </tr>\n",
       "    <tr>\n",
       "      <th>2020-06-01</th>\n",
       "      <td>98.48</td>\n",
       "      <td>99.72</td>\n",
       "    </tr>\n",
       "    <tr>\n",
       "      <th>2020-07-01</th>\n",
       "      <td>98.50</td>\n",
       "      <td>99.05</td>\n",
       "    </tr>\n",
       "    <tr>\n",
       "      <th>2020-08-01</th>\n",
       "      <td>98.71</td>\n",
       "      <td>98.64</td>\n",
       "    </tr>\n",
       "    <tr>\n",
       "      <th>2020-09-01</th>\n",
       "      <td>99.02</td>\n",
       "      <td>98.56</td>\n",
       "    </tr>\n",
       "    <tr>\n",
       "      <th>2020-10-01</th>\n",
       "      <td>99.18</td>\n",
       "      <td>98.68</td>\n",
       "    </tr>\n",
       "    <tr>\n",
       "      <th>2020-11-01</th>\n",
       "      <td>99.13</td>\n",
       "      <td>98.85</td>\n",
       "    </tr>\n",
       "    <tr>\n",
       "      <th>2020-12-01</th>\n",
       "      <td>99.14</td>\n",
       "      <td>99.01</td>\n",
       "    </tr>\n",
       "    <tr>\n",
       "      <th>2021-01-01</th>\n",
       "      <td>99.14</td>\n",
       "      <td>99.12</td>\n",
       "    </tr>\n",
       "    <tr>\n",
       "      <th>2021-02-01</th>\n",
       "      <td>99.28</td>\n",
       "      <td>99.15</td>\n",
       "    </tr>\n",
       "    <tr>\n",
       "      <th>2021-03-01</th>\n",
       "      <td>99.66</td>\n",
       "      <td>99.17</td>\n",
       "    </tr>\n",
       "    <tr>\n",
       "      <th>2021-04-01</th>\n",
       "      <td>99.91</td>\n",
       "      <td>99.30</td>\n",
       "    </tr>\n",
       "    <tr>\n",
       "      <th>2021-05-01</th>\n",
       "      <td>99.85</td>\n",
       "      <td>99.50</td>\n",
       "    </tr>\n",
       "    <tr>\n",
       "      <th>2021-06-01</th>\n",
       "      <td>99.63</td>\n",
       "      <td>99.67</td>\n",
       "    </tr>\n",
       "    <tr>\n",
       "      <th>2021-07-01</th>\n",
       "      <td>99.16</td>\n",
       "      <td>99.76</td>\n",
       "    </tr>\n",
       "    <tr>\n",
       "      <th>2021-08-01</th>\n",
       "      <td>98.57</td>\n",
       "      <td>99.64</td>\n",
       "    </tr>\n",
       "    <tr>\n",
       "      <th>2021-09-01</th>\n",
       "      <td>98.27</td>\n",
       "      <td>99.30</td>\n",
       "    </tr>\n",
       "    <tr>\n",
       "      <th>2021-10-01</th>\n",
       "      <td>98.08</td>\n",
       "      <td>98.91</td>\n",
       "    </tr>\n",
       "    <tr>\n",
       "      <th>2021-11-01</th>\n",
       "      <td>97.91</td>\n",
       "      <td>98.52</td>\n",
       "    </tr>\n",
       "    <tr>\n",
       "      <th>2021-12-01</th>\n",
       "      <td>97.81</td>\n",
       "      <td>98.21</td>\n",
       "    </tr>\n",
       "    <tr>\n",
       "      <th>2022-01-01</th>\n",
       "      <td>97.57</td>\n",
       "      <td>98.02</td>\n",
       "    </tr>\n",
       "    <tr>\n",
       "      <th>2022-02-01</th>\n",
       "      <td>97.26</td>\n",
       "      <td>97.84</td>\n",
       "    </tr>\n",
       "    <tr>\n",
       "      <th>2022-03-01</th>\n",
       "      <td>97.01</td>\n",
       "      <td>97.64</td>\n",
       "    </tr>\n",
       "    <tr>\n",
       "      <th>2022-04-01</th>\n",
       "      <td>96.84</td>\n",
       "      <td>97.41</td>\n",
       "    </tr>\n",
       "    <tr>\n",
       "      <th>2022-05-01</th>\n",
       "      <td>96.50</td>\n",
       "      <td>97.17</td>\n",
       "    </tr>\n",
       "    <tr>\n",
       "      <th>2022-06-01</th>\n",
       "      <td>96.50</td>\n",
       "      <td>96.90</td>\n",
       "    </tr>\n",
       "    <tr>\n",
       "      <th>2022-07-01</th>\n",
       "      <td>96.50</td>\n",
       "      <td>96.71</td>\n",
       "    </tr>\n",
       "    <tr>\n",
       "      <th>2022-08-01</th>\n",
       "      <td>96.50</td>\n",
       "      <td>96.58</td>\n",
       "    </tr>\n",
       "    <tr>\n",
       "      <th>2022-09-01</th>\n",
       "      <td>96.66</td>\n",
       "      <td>96.50</td>\n",
       "    </tr>\n",
       "  </tbody>\n",
       "</table>\n",
       "</div>"
      ],
      "text/plain": [
       "            CONSUMER CONF INDEX  mavg_4\n",
       "TIME                                   \n",
       "2020-04-01                99.04  101.13\n",
       "2020-05-01                98.53  100.49\n",
       "2020-06-01                98.48   99.72\n",
       "2020-07-01                98.50   99.05\n",
       "2020-08-01                98.71   98.64\n",
       "2020-09-01                99.02   98.56\n",
       "2020-10-01                99.18   98.68\n",
       "2020-11-01                99.13   98.85\n",
       "2020-12-01                99.14   99.01\n",
       "2021-01-01                99.14   99.12\n",
       "2021-02-01                99.28   99.15\n",
       "2021-03-01                99.66   99.17\n",
       "2021-04-01                99.91   99.30\n",
       "2021-05-01                99.85   99.50\n",
       "2021-06-01                99.63   99.67\n",
       "2021-07-01                99.16   99.76\n",
       "2021-08-01                98.57   99.64\n",
       "2021-09-01                98.27   99.30\n",
       "2021-10-01                98.08   98.91\n",
       "2021-11-01                97.91   98.52\n",
       "2021-12-01                97.81   98.21\n",
       "2022-01-01                97.57   98.02\n",
       "2022-02-01                97.26   97.84\n",
       "2022-03-01                97.01   97.64\n",
       "2022-04-01                96.84   97.41\n",
       "2022-05-01                96.50   97.17\n",
       "2022-06-01                96.50   96.90\n",
       "2022-07-01                96.50   96.71\n",
       "2022-08-01                96.50   96.58\n",
       "2022-09-01                96.66   96.50"
      ]
     },
     "execution_count": 231,
     "metadata": {},
     "output_type": "execute_result"
    }
   ],
   "source": [
    "df['mavg_4'] = df['CONSUMER CONF INDEX'].rolling( window =4).mean().shift(1)\n",
    "pd.set_option('display.float_format', lambda x: '%.2f' % x)\n",
    "df[['CONSUMER CONF INDEX', 'mavg_4']][63:]"
   ]
  },
  {
   "cell_type": "code",
   "execution_count": 232,
   "id": "340f505a",
   "metadata": {},
   "outputs": [
    {
     "name": "stderr",
     "output_type": "stream",
     "text": [
      "No artists with labels found to put in legend.  Note that artists whose label start with an underscore are ignored when legend() is called with no argument.\n"
     ]
    },
    {
     "data": {
      "image/png": "[encoded data removed]",
      "text/plain": [
       "<Figure size 1080x288 with 1 Axes>"
      ]
     },
     "metadata": {
      "needs_background": "light"
     },
     "output_type": "display_data"
    }
   ],
   "source": [
    "plt.figure( figsize=(15,4))\n",
    "plt.ylabel( \"CONSUMER CONF INDEX\" )\n",
    "plt.xlabel( \"TIME\" )\n",
    "plt.plot( df['CONSUMER CONF INDEX'][63:] );\n",
    "plt.plot( df['mavg_4'][63:]);\n",
    "plt.legend();"
   ]
  },
  {
   "cell_type": "code",
   "execution_count": 233,
   "id": "8a4d22f2",
   "metadata": {},
   "outputs": [
    {
     "data": {
      "text/html": [
       "<div>\n",
       "<style scoped>\n",
       "    .dataframe tbody tr th:only-of-type {\n",
       "        vertical-align: middle;\n",
       "    }\n",
       "\n",
       "    .dataframe tbody tr th {\n",
       "        vertical-align: top;\n",
       "    }\n",
       "\n",
       "    .dataframe thead th {\n",
       "        text-align: right;\n",
       "    }\n",
       "</style>\n",
       "<table border=\"1\" class=\"dataframe\">\n",
       "  <thead>\n",
       "    <tr style=\"text-align: right;\">\n",
       "      <th></th>\n",
       "      <th>CONSUMER CONF INDEX</th>\n",
       "      <th>mavg_6</th>\n",
       "    </tr>\n",
       "    <tr>\n",
       "      <th>TIME</th>\n",
       "      <th></th>\n",
       "      <th></th>\n",
       "    </tr>\n",
       "  </thead>\n",
       "  <tbody>\n",
       "    <tr>\n",
       "      <th>2020-04-01</th>\n",
       "      <td>99.04</td>\n",
       "      <td>101.17</td>\n",
       "    </tr>\n",
       "    <tr>\n",
       "      <th>2020-05-01</th>\n",
       "      <td>98.53</td>\n",
       "      <td>100.82</td>\n",
       "    </tr>\n",
       "    <tr>\n",
       "      <th>2020-06-01</th>\n",
       "      <td>98.48</td>\n",
       "      <td>100.35</td>\n",
       "    </tr>\n",
       "    <tr>\n",
       "      <th>2020-07-01</th>\n",
       "      <td>98.50</td>\n",
       "      <td>99.83</td>\n",
       "    </tr>\n",
       "    <tr>\n",
       "      <th>2020-08-01</th>\n",
       "      <td>98.71</td>\n",
       "      <td>99.31</td>\n",
       "    </tr>\n",
       "    <tr>\n",
       "      <th>2020-09-01</th>\n",
       "      <td>99.02</td>\n",
       "      <td>98.90</td>\n",
       "    </tr>\n",
       "    <tr>\n",
       "      <th>2020-10-01</th>\n",
       "      <td>99.18</td>\n",
       "      <td>98.71</td>\n",
       "    </tr>\n",
       "    <tr>\n",
       "      <th>2020-11-01</th>\n",
       "      <td>99.13</td>\n",
       "      <td>98.74</td>\n",
       "    </tr>\n",
       "    <tr>\n",
       "      <th>2020-12-01</th>\n",
       "      <td>99.14</td>\n",
       "      <td>98.84</td>\n",
       "    </tr>\n",
       "    <tr>\n",
       "      <th>2021-01-01</th>\n",
       "      <td>99.14</td>\n",
       "      <td>98.95</td>\n",
       "    </tr>\n",
       "    <tr>\n",
       "      <th>2021-02-01</th>\n",
       "      <td>99.28</td>\n",
       "      <td>99.05</td>\n",
       "    </tr>\n",
       "    <tr>\n",
       "      <th>2021-03-01</th>\n",
       "      <td>99.66</td>\n",
       "      <td>99.15</td>\n",
       "    </tr>\n",
       "    <tr>\n",
       "      <th>2021-04-01</th>\n",
       "      <td>99.91</td>\n",
       "      <td>99.25</td>\n",
       "    </tr>\n",
       "    <tr>\n",
       "      <th>2021-05-01</th>\n",
       "      <td>99.85</td>\n",
       "      <td>99.38</td>\n",
       "    </tr>\n",
       "    <tr>\n",
       "      <th>2021-06-01</th>\n",
       "      <td>99.63</td>\n",
       "      <td>99.50</td>\n",
       "    </tr>\n",
       "    <tr>\n",
       "      <th>2021-07-01</th>\n",
       "      <td>99.16</td>\n",
       "      <td>99.58</td>\n",
       "    </tr>\n",
       "    <tr>\n",
       "      <th>2021-08-01</th>\n",
       "      <td>98.57</td>\n",
       "      <td>99.58</td>\n",
       "    </tr>\n",
       "    <tr>\n",
       "      <th>2021-09-01</th>\n",
       "      <td>98.27</td>\n",
       "      <td>99.46</td>\n",
       "    </tr>\n",
       "    <tr>\n",
       "      <th>2021-10-01</th>\n",
       "      <td>98.08</td>\n",
       "      <td>99.23</td>\n",
       "    </tr>\n",
       "    <tr>\n",
       "      <th>2021-11-01</th>\n",
       "      <td>97.91</td>\n",
       "      <td>98.93</td>\n",
       "    </tr>\n",
       "    <tr>\n",
       "      <th>2021-12-01</th>\n",
       "      <td>97.81</td>\n",
       "      <td>98.60</td>\n",
       "    </tr>\n",
       "    <tr>\n",
       "      <th>2022-01-01</th>\n",
       "      <td>97.57</td>\n",
       "      <td>98.30</td>\n",
       "    </tr>\n",
       "    <tr>\n",
       "      <th>2022-02-01</th>\n",
       "      <td>97.26</td>\n",
       "      <td>98.04</td>\n",
       "    </tr>\n",
       "    <tr>\n",
       "      <th>2022-03-01</th>\n",
       "      <td>97.01</td>\n",
       "      <td>97.82</td>\n",
       "    </tr>\n",
       "    <tr>\n",
       "      <th>2022-04-01</th>\n",
       "      <td>96.84</td>\n",
       "      <td>97.61</td>\n",
       "    </tr>\n",
       "    <tr>\n",
       "      <th>2022-05-01</th>\n",
       "      <td>96.50</td>\n",
       "      <td>97.40</td>\n",
       "    </tr>\n",
       "    <tr>\n",
       "      <th>2022-06-01</th>\n",
       "      <td>96.50</td>\n",
       "      <td>97.17</td>\n",
       "    </tr>\n",
       "    <tr>\n",
       "      <th>2022-07-01</th>\n",
       "      <td>96.50</td>\n",
       "      <td>96.95</td>\n",
       "    </tr>\n",
       "    <tr>\n",
       "      <th>2022-08-01</th>\n",
       "      <td>96.50</td>\n",
       "      <td>96.77</td>\n",
       "    </tr>\n",
       "    <tr>\n",
       "      <th>2022-09-01</th>\n",
       "      <td>96.66</td>\n",
       "      <td>96.64</td>\n",
       "    </tr>\n",
       "  </tbody>\n",
       "</table>\n",
       "</div>"
      ],
      "text/plain": [
       "            CONSUMER CONF INDEX  mavg_6\n",
       "TIME                                   \n",
       "2020-04-01                99.04  101.17\n",
       "2020-05-01                98.53  100.82\n",
       "2020-06-01                98.48  100.35\n",
       "2020-07-01                98.50   99.83\n",
       "2020-08-01                98.71   99.31\n",
       "2020-09-01                99.02   98.90\n",
       "2020-10-01                99.18   98.71\n",
       "2020-11-01                99.13   98.74\n",
       "2020-12-01                99.14   98.84\n",
       "2021-01-01                99.14   98.95\n",
       "2021-02-01                99.28   99.05\n",
       "2021-03-01                99.66   99.15\n",
       "2021-04-01                99.91   99.25\n",
       "2021-05-01                99.85   99.38\n",
       "2021-06-01                99.63   99.50\n",
       "2021-07-01                99.16   99.58\n",
       "2021-08-01                98.57   99.58\n",
       "2021-09-01                98.27   99.46\n",
       "2021-10-01                98.08   99.23\n",
       "2021-11-01                97.91   98.93\n",
       "2021-12-01                97.81   98.60\n",
       "2022-01-01                97.57   98.30\n",
       "2022-02-01                97.26   98.04\n",
       "2022-03-01                97.01   97.82\n",
       "2022-04-01                96.84   97.61\n",
       "2022-05-01                96.50   97.40\n",
       "2022-06-01                96.50   97.17\n",
       "2022-07-01                96.50   96.95\n",
       "2022-08-01                96.50   96.77\n",
       "2022-09-01                96.66   96.64"
      ]
     },
     "execution_count": 233,
     "metadata": {},
     "output_type": "execute_result"
    }
   ],
   "source": [
    "df['mavg_6'] = df['CONSUMER CONF INDEX'].rolling( window =6).mean().shift(1)\n",
    "pd.set_option('display.float_format', lambda x: '%.2f' % x)\n",
    "df[['CONSUMER CONF INDEX', 'mavg_6']][63:]"
   ]
  },
  {
   "cell_type": "code",
   "execution_count": 234,
   "id": "f6daf4ce",
   "metadata": {},
   "outputs": [
    {
     "name": "stderr",
     "output_type": "stream",
     "text": [
      "No artists with labels found to put in legend.  Note that artists whose label start with an underscore are ignored when legend() is called with no argument.\n"
     ]
    },
    {
     "data": {
      "image/png": "[encoded data removed]",
      "text/plain": [
       "<Figure size 1080x288 with 1 Axes>"
      ]
     },
     "metadata": {
      "needs_background": "light"
     },
     "output_type": "display_data"
    }
   ],
   "source": [
    "plt.figure( figsize=(15,4))\n",
    "plt.ylabel( \"CONSUMER CONF INDEX\" )\n",
    "plt.xlabel( \"TIME\" )\n",
    "plt.plot( df['CONSUMER CONF INDEX'][63:] );\n",
    "plt.plot( df['mavg_6'][63:]);\n",
    "plt.legend();"
   ]
  },
  {
   "cell_type": "code",
   "execution_count": 235,
   "id": "ada3a1c9",
   "metadata": {},
   "outputs": [
    {
     "data": {
      "text/html": [
       "<div>\n",
       "<style scoped>\n",
       "    .dataframe tbody tr th:only-of-type {\n",
       "        vertical-align: middle;\n",
       "    }\n",
       "\n",
       "    .dataframe tbody tr th {\n",
       "        vertical-align: top;\n",
       "    }\n",
       "\n",
       "    .dataframe thead th {\n",
       "        text-align: right;\n",
       "    }\n",
       "</style>\n",
       "<table border=\"1\" class=\"dataframe\">\n",
       "  <thead>\n",
       "    <tr style=\"text-align: right;\">\n",
       "      <th></th>\n",
       "      <th>CONSUMER CONF INDEX</th>\n",
       "      <th>mavg_9</th>\n",
       "    </tr>\n",
       "    <tr>\n",
       "      <th>TIME</th>\n",
       "      <th></th>\n",
       "      <th></th>\n",
       "    </tr>\n",
       "  </thead>\n",
       "  <tbody>\n",
       "    <tr>\n",
       "      <th>2020-04-01</th>\n",
       "      <td>99.04</td>\n",
       "      <td>101.11</td>\n",
       "    </tr>\n",
       "    <tr>\n",
       "      <th>2020-05-01</th>\n",
       "      <td>98.53</td>\n",
       "      <td>100.87</td>\n",
       "    </tr>\n",
       "    <tr>\n",
       "      <th>2020-06-01</th>\n",
       "      <td>98.48</td>\n",
       "      <td>100.61</td>\n",
       "    </tr>\n",
       "    <tr>\n",
       "      <th>2020-07-01</th>\n",
       "      <td>98.50</td>\n",
       "      <td>100.34</td>\n",
       "    </tr>\n",
       "    <tr>\n",
       "      <th>2020-08-01</th>\n",
       "      <td>98.71</td>\n",
       "      <td>100.05</td>\n",
       "    </tr>\n",
       "    <tr>\n",
       "      <th>2020-09-01</th>\n",
       "      <td>99.02</td>\n",
       "      <td>99.75</td>\n",
       "    </tr>\n",
       "    <tr>\n",
       "      <th>2020-10-01</th>\n",
       "      <td>99.18</td>\n",
       "      <td>99.47</td>\n",
       "    </tr>\n",
       "    <tr>\n",
       "      <th>2020-11-01</th>\n",
       "      <td>99.13</td>\n",
       "      <td>99.20</td>\n",
       "    </tr>\n",
       "    <tr>\n",
       "      <th>2020-12-01</th>\n",
       "      <td>99.14</td>\n",
       "      <td>98.97</td>\n",
       "    </tr>\n",
       "    <tr>\n",
       "      <th>2021-01-01</th>\n",
       "      <td>99.14</td>\n",
       "      <td>98.86</td>\n",
       "    </tr>\n",
       "    <tr>\n",
       "      <th>2021-02-01</th>\n",
       "      <td>99.28</td>\n",
       "      <td>98.87</td>\n",
       "    </tr>\n",
       "    <tr>\n",
       "      <th>2021-03-01</th>\n",
       "      <td>99.66</td>\n",
       "      <td>98.95</td>\n",
       "    </tr>\n",
       "    <tr>\n",
       "      <th>2021-04-01</th>\n",
       "      <td>99.91</td>\n",
       "      <td>99.08</td>\n",
       "    </tr>\n",
       "    <tr>\n",
       "      <th>2021-05-01</th>\n",
       "      <td>99.85</td>\n",
       "      <td>99.24</td>\n",
       "    </tr>\n",
       "    <tr>\n",
       "      <th>2021-06-01</th>\n",
       "      <td>99.63</td>\n",
       "      <td>99.37</td>\n",
       "    </tr>\n",
       "    <tr>\n",
       "      <th>2021-07-01</th>\n",
       "      <td>99.16</td>\n",
       "      <td>99.43</td>\n",
       "    </tr>\n",
       "    <tr>\n",
       "      <th>2021-08-01</th>\n",
       "      <td>98.57</td>\n",
       "      <td>99.43</td>\n",
       "    </tr>\n",
       "    <tr>\n",
       "      <th>2021-09-01</th>\n",
       "      <td>98.27</td>\n",
       "      <td>99.37</td>\n",
       "    </tr>\n",
       "    <tr>\n",
       "      <th>2021-10-01</th>\n",
       "      <td>98.08</td>\n",
       "      <td>99.27</td>\n",
       "    </tr>\n",
       "    <tr>\n",
       "      <th>2021-11-01</th>\n",
       "      <td>97.91</td>\n",
       "      <td>99.16</td>\n",
       "    </tr>\n",
       "    <tr>\n",
       "      <th>2021-12-01</th>\n",
       "      <td>97.81</td>\n",
       "      <td>99.00</td>\n",
       "    </tr>\n",
       "    <tr>\n",
       "      <th>2022-01-01</th>\n",
       "      <td>97.57</td>\n",
       "      <td>98.80</td>\n",
       "    </tr>\n",
       "    <tr>\n",
       "      <th>2022-02-01</th>\n",
       "      <td>97.26</td>\n",
       "      <td>98.54</td>\n",
       "    </tr>\n",
       "    <tr>\n",
       "      <th>2022-03-01</th>\n",
       "      <td>97.01</td>\n",
       "      <td>98.25</td>\n",
       "    </tr>\n",
       "    <tr>\n",
       "      <th>2022-04-01</th>\n",
       "      <td>96.84</td>\n",
       "      <td>97.96</td>\n",
       "    </tr>\n",
       "    <tr>\n",
       "      <th>2022-05-01</th>\n",
       "      <td>96.50</td>\n",
       "      <td>97.70</td>\n",
       "    </tr>\n",
       "    <tr>\n",
       "      <th>2022-06-01</th>\n",
       "      <td>96.50</td>\n",
       "      <td>97.47</td>\n",
       "    </tr>\n",
       "    <tr>\n",
       "      <th>2022-07-01</th>\n",
       "      <td>96.50</td>\n",
       "      <td>97.28</td>\n",
       "    </tr>\n",
       "    <tr>\n",
       "      <th>2022-08-01</th>\n",
       "      <td>96.50</td>\n",
       "      <td>97.10</td>\n",
       "    </tr>\n",
       "    <tr>\n",
       "      <th>2022-09-01</th>\n",
       "      <td>96.66</td>\n",
       "      <td>96.94</td>\n",
       "    </tr>\n",
       "  </tbody>\n",
       "</table>\n",
       "</div>"
      ],
      "text/plain": [
       "            CONSUMER CONF INDEX  mavg_9\n",
       "TIME                                   \n",
       "2020-04-01                99.04  101.11\n",
       "2020-05-01                98.53  100.87\n",
       "2020-06-01                98.48  100.61\n",
       "2020-07-01                98.50  100.34\n",
       "2020-08-01                98.71  100.05\n",
       "2020-09-01                99.02   99.75\n",
       "2020-10-01                99.18   99.47\n",
       "2020-11-01                99.13   99.20\n",
       "2020-12-01                99.14   98.97\n",
       "2021-01-01                99.14   98.86\n",
       "2021-02-01                99.28   98.87\n",
       "2021-03-01                99.66   98.95\n",
       "2021-04-01                99.91   99.08\n",
       "2021-05-01                99.85   99.24\n",
       "2021-06-01                99.63   99.37\n",
       "2021-07-01                99.16   99.43\n",
       "2021-08-01                98.57   99.43\n",
       "2021-09-01                98.27   99.37\n",
       "2021-10-01                98.08   99.27\n",
       "2021-11-01                97.91   99.16\n",
       "2021-12-01                97.81   99.00\n",
       "2022-01-01                97.57   98.80\n",
       "2022-02-01                97.26   98.54\n",
       "2022-03-01                97.01   98.25\n",
       "2022-04-01                96.84   97.96\n",
       "2022-05-01                96.50   97.70\n",
       "2022-06-01                96.50   97.47\n",
       "2022-07-01                96.50   97.28\n",
       "2022-08-01                96.50   97.10\n",
       "2022-09-01                96.66   96.94"
      ]
     },
     "execution_count": 235,
     "metadata": {},
     "output_type": "execute_result"
    }
   ],
   "source": [
    "df['mavg_9'] = df['CONSUMER CONF INDEX'].rolling( window =9).mean().shift(1)\n",
    "pd.set_option('display.float_format', lambda x: '%.2f' % x)\n",
    "df[['CONSUMER CONF INDEX', 'mavg_9']][63:]"
   ]
  },
  {
   "cell_type": "code",
   "execution_count": 236,
   "id": "ae9fbfe5",
   "metadata": {},
   "outputs": [
    {
     "name": "stderr",
     "output_type": "stream",
     "text": [
      "No artists with labels found to put in legend.  Note that artists whose label start with an underscore are ignored when legend() is called with no argument.\n"
     ]
    },
    {
     "data": {
      "image/png": "[encoded data removed]",
      "text/plain": [
       "<Figure size 1080x288 with 1 Axes>"
      ]
     },
     "metadata": {
      "needs_background": "light"
     },
     "output_type": "display_data"
    }
   ],
   "source": [
    "plt.figure( figsize=(15,4))\n",
    "plt.ylabel( \"CONSUMER CONF INDEX\" )\n",
    "plt.xlabel( \"TIME\" )\n",
    "plt.plot( df['CONSUMER CONF INDEX'][63:] );\n",
    "plt.plot( df['mavg_9'][63:]);\n",
    "plt.legend();"
   ]
  },
  {
   "cell_type": "code",
   "execution_count": 237,
   "id": "ad806a86",
   "metadata": {},
   "outputs": [
    {
     "data": {
      "text/html": [
       "<div>\n",
       "<style scoped>\n",
       "    .dataframe tbody tr th:only-of-type {\n",
       "        vertical-align: middle;\n",
       "    }\n",
       "\n",
       "    .dataframe tbody tr th {\n",
       "        vertical-align: top;\n",
       "    }\n",
       "\n",
       "    .dataframe thead th {\n",
       "        text-align: right;\n",
       "    }\n",
       "</style>\n",
       "<table border=\"1\" class=\"dataframe\">\n",
       "  <thead>\n",
       "    <tr style=\"text-align: right;\">\n",
       "      <th></th>\n",
       "      <th>CONSUMER CONF INDEX</th>\n",
       "      <th>mavg_12</th>\n",
       "    </tr>\n",
       "    <tr>\n",
       "      <th>TIME</th>\n",
       "      <th></th>\n",
       "      <th></th>\n",
       "    </tr>\n",
       "  </thead>\n",
       "  <tbody>\n",
       "    <tr>\n",
       "      <th>2020-04-01</th>\n",
       "      <td>99.04</td>\n",
       "      <td>101.20</td>\n",
       "    </tr>\n",
       "    <tr>\n",
       "      <th>2020-05-01</th>\n",
       "      <td>98.53</td>\n",
       "      <td>101.00</td>\n",
       "    </tr>\n",
       "    <tr>\n",
       "      <th>2020-06-01</th>\n",
       "      <td>98.48</td>\n",
       "      <td>100.75</td>\n",
       "    </tr>\n",
       "    <tr>\n",
       "      <th>2020-07-01</th>\n",
       "      <td>98.50</td>\n",
       "      <td>100.50</td>\n",
       "    </tr>\n",
       "    <tr>\n",
       "      <th>2020-08-01</th>\n",
       "      <td>98.71</td>\n",
       "      <td>100.28</td>\n",
       "    </tr>\n",
       "    <tr>\n",
       "      <th>2020-09-01</th>\n",
       "      <td>99.02</td>\n",
       "      <td>100.10</td>\n",
       "    </tr>\n",
       "    <tr>\n",
       "      <th>2020-10-01</th>\n",
       "      <td>99.18</td>\n",
       "      <td>99.94</td>\n",
       "    </tr>\n",
       "    <tr>\n",
       "      <th>2020-11-01</th>\n",
       "      <td>99.13</td>\n",
       "      <td>99.78</td>\n",
       "    </tr>\n",
       "    <tr>\n",
       "      <th>2020-12-01</th>\n",
       "      <td>99.14</td>\n",
       "      <td>99.59</td>\n",
       "    </tr>\n",
       "    <tr>\n",
       "      <th>2021-01-01</th>\n",
       "      <td>99.14</td>\n",
       "      <td>99.39</td>\n",
       "    </tr>\n",
       "    <tr>\n",
       "      <th>2021-02-01</th>\n",
       "      <td>99.28</td>\n",
       "      <td>99.18</td>\n",
       "    </tr>\n",
       "    <tr>\n",
       "      <th>2021-03-01</th>\n",
       "      <td>99.66</td>\n",
       "      <td>99.03</td>\n",
       "    </tr>\n",
       "    <tr>\n",
       "      <th>2021-04-01</th>\n",
       "      <td>99.91</td>\n",
       "      <td>98.98</td>\n",
       "    </tr>\n",
       "    <tr>\n",
       "      <th>2021-05-01</th>\n",
       "      <td>99.85</td>\n",
       "      <td>99.06</td>\n",
       "    </tr>\n",
       "    <tr>\n",
       "      <th>2021-06-01</th>\n",
       "      <td>99.63</td>\n",
       "      <td>99.17</td>\n",
       "    </tr>\n",
       "    <tr>\n",
       "      <th>2021-07-01</th>\n",
       "      <td>99.16</td>\n",
       "      <td>99.26</td>\n",
       "    </tr>\n",
       "    <tr>\n",
       "      <th>2021-08-01</th>\n",
       "      <td>98.57</td>\n",
       "      <td>99.32</td>\n",
       "    </tr>\n",
       "    <tr>\n",
       "      <th>2021-09-01</th>\n",
       "      <td>98.27</td>\n",
       "      <td>99.31</td>\n",
       "    </tr>\n",
       "    <tr>\n",
       "      <th>2021-10-01</th>\n",
       "      <td>98.08</td>\n",
       "      <td>99.24</td>\n",
       "    </tr>\n",
       "    <tr>\n",
       "      <th>2021-11-01</th>\n",
       "      <td>97.91</td>\n",
       "      <td>99.15</td>\n",
       "    </tr>\n",
       "    <tr>\n",
       "      <th>2021-12-01</th>\n",
       "      <td>97.81</td>\n",
       "      <td>99.05</td>\n",
       "    </tr>\n",
       "    <tr>\n",
       "      <th>2022-01-01</th>\n",
       "      <td>97.57</td>\n",
       "      <td>98.94</td>\n",
       "    </tr>\n",
       "    <tr>\n",
       "      <th>2022-02-01</th>\n",
       "      <td>97.26</td>\n",
       "      <td>98.81</td>\n",
       "    </tr>\n",
       "    <tr>\n",
       "      <th>2022-03-01</th>\n",
       "      <td>97.01</td>\n",
       "      <td>98.64</td>\n",
       "    </tr>\n",
       "    <tr>\n",
       "      <th>2022-04-01</th>\n",
       "      <td>96.84</td>\n",
       "      <td>98.42</td>\n",
       "    </tr>\n",
       "    <tr>\n",
       "      <th>2022-05-01</th>\n",
       "      <td>96.50</td>\n",
       "      <td>98.16</td>\n",
       "    </tr>\n",
       "    <tr>\n",
       "      <th>2022-06-01</th>\n",
       "      <td>96.50</td>\n",
       "      <td>97.89</td>\n",
       "    </tr>\n",
       "    <tr>\n",
       "      <th>2022-07-01</th>\n",
       "      <td>96.50</td>\n",
       "      <td>97.62</td>\n",
       "    </tr>\n",
       "    <tr>\n",
       "      <th>2022-08-01</th>\n",
       "      <td>96.50</td>\n",
       "      <td>97.40</td>\n",
       "    </tr>\n",
       "    <tr>\n",
       "      <th>2022-09-01</th>\n",
       "      <td>96.66</td>\n",
       "      <td>97.23</td>\n",
       "    </tr>\n",
       "  </tbody>\n",
       "</table>\n",
       "</div>"
      ],
      "text/plain": [
       "            CONSUMER CONF INDEX  mavg_12\n",
       "TIME                                    \n",
       "2020-04-01                99.04   101.20\n",
       "2020-05-01                98.53   101.00\n",
       "2020-06-01                98.48   100.75\n",
       "2020-07-01                98.50   100.50\n",
       "2020-08-01                98.71   100.28\n",
       "2020-09-01                99.02   100.10\n",
       "2020-10-01                99.18    99.94\n",
       "2020-11-01                99.13    99.78\n",
       "2020-12-01                99.14    99.59\n",
       "2021-01-01                99.14    99.39\n",
       "2021-02-01                99.28    99.18\n",
       "2021-03-01                99.66    99.03\n",
       "2021-04-01                99.91    98.98\n",
       "2021-05-01                99.85    99.06\n",
       "2021-06-01                99.63    99.17\n",
       "2021-07-01                99.16    99.26\n",
       "2021-08-01                98.57    99.32\n",
       "2021-09-01                98.27    99.31\n",
       "2021-10-01                98.08    99.24\n",
       "2021-11-01                97.91    99.15\n",
       "2021-12-01                97.81    99.05\n",
       "2022-01-01                97.57    98.94\n",
       "2022-02-01                97.26    98.81\n",
       "2022-03-01                97.01    98.64\n",
       "2022-04-01                96.84    98.42\n",
       "2022-05-01                96.50    98.16\n",
       "2022-06-01                96.50    97.89\n",
       "2022-07-01                96.50    97.62\n",
       "2022-08-01                96.50    97.40\n",
       "2022-09-01                96.66    97.23"
      ]
     },
     "execution_count": 237,
     "metadata": {},
     "output_type": "execute_result"
    }
   ],
   "source": [
    "df['mavg_12'] = df['CONSUMER CONF INDEX'].rolling( window =12).mean().shift(1)\n",
    "pd.set_option('display.float_format', lambda x: '%.2f' % x)\n",
    "df[['CONSUMER CONF INDEX', 'mavg_12']][63:]"
   ]
  },
  {
   "cell_type": "code",
   "execution_count": 238,
   "id": "d874a2b0",
   "metadata": {},
   "outputs": [
    {
     "name": "stderr",
     "output_type": "stream",
     "text": [
      "No artists with labels found to put in legend.  Note that artists whose label start with an underscore are ignored when legend() is called with no argument.\n"
     ]
    },
    {
     "data": {
      "image/png": "[encoded data removed]",
      "text/plain": [
       "<Figure size 1080x288 with 1 Axes>"
      ]
     },
     "metadata": {
      "needs_background": "light"
     },
     "output_type": "display_data"
    }
   ],
   "source": [
    "plt.figure( figsize=(15,4))\n",
    "plt.ylabel( \"CONSUMER CONF INDEX\" )\n",
    "plt.xlabel( \"TIME\" )\n",
    "plt.plot( df['CONSUMER CONF INDEX'][63:] );\n",
    "plt.plot( df['mavg_12'][63:]);\n",
    "plt.legend();"
   ]
  },
  {
   "cell_type": "markdown",
   "id": "1427ac20",
   "metadata": {},
   "source": [
    "### Calculating  MAPE and RMSE for different MOVING AVERAGE MODELS"
   ]
  },
  {
   "cell_type": "code",
   "execution_count": 239,
   "id": "df5323b4",
   "metadata": {},
   "outputs": [],
   "source": [
    "import numpy as np\n",
    "def get_mape(actual, predicted):\n",
    " y_true, y_pred = np.array(actual), np.array(predicted)\n",
    " return np.round( np.mean(np.abs((actual - predicted) / actual)) * 100, 2 )"
   ]
  },
  {
   "cell_type": "code",
   "execution_count": 240,
   "id": "97ed868a",
   "metadata": {},
   "outputs": [
    {
     "data": {
      "text/plain": [
       "0.35"
      ]
     },
     "execution_count": 240,
     "metadata": {},
     "output_type": "execute_result"
    }
   ],
   "source": [
    "get_mape(df['CONSUMER CONF INDEX'][63:].values,df['mavg_2'][63:].values)"
   ]
  },
  {
   "cell_type": "code",
   "execution_count": 241,
   "id": "19e8da0b",
   "metadata": {},
   "outputs": [
    {
     "data": {
      "text/plain": [
       "0.53"
      ]
     },
     "execution_count": 241,
     "metadata": {},
     "output_type": "execute_result"
    }
   ],
   "source": [
    "get_mape(df['CONSUMER CONF INDEX'][63:].values,df['mavg_4'][63:].values)"
   ]
  },
  {
   "cell_type": "code",
   "execution_count": 242,
   "id": "565bcede",
   "metadata": {},
   "outputs": [
    {
     "data": {
      "text/plain": [
       "0.64"
      ]
     },
     "execution_count": 242,
     "metadata": {},
     "output_type": "execute_result"
    }
   ],
   "source": [
    "get_mape(df['CONSUMER CONF INDEX'][63:].values,df['mavg_6'][63:].values)"
   ]
  },
  {
   "cell_type": "code",
   "execution_count": 243,
   "id": "de5ede78",
   "metadata": {},
   "outputs": [
    {
     "data": {
      "text/plain": [
       "0.78"
      ]
     },
     "execution_count": 243,
     "metadata": {},
     "output_type": "execute_result"
    }
   ],
   "source": [
    "get_mape(df['CONSUMER CONF INDEX'][63:].values,df['mavg_9'][63:].values)"
   ]
  },
  {
   "cell_type": "code",
   "execution_count": 244,
   "id": "95092a06",
   "metadata": {},
   "outputs": [
    {
     "data": {
      "text/plain": [
       "0.91"
      ]
     },
     "execution_count": 244,
     "metadata": {},
     "output_type": "execute_result"
    }
   ],
   "source": [
    "get_mape(df['CONSUMER CONF INDEX'][63:].values,df['mavg_12'][63:].values)"
   ]
  },
  {
   "cell_type": "code",
   "execution_count": 245,
   "id": "6ac0962b",
   "metadata": {},
   "outputs": [
    {
     "name": "stdout",
     "output_type": "stream",
     "text": [
      "mse 0.6902424769534045\n",
      "rmse 0.8308083274458703\n"
     ]
    }
   ],
   "source": [
    "from sklearn.metrics import mean_squared_error\n",
    "mse= np.sqrt(mean_squared_error(df['CONSUMER CONF INDEX'][63:].values,df['mavg_4'][63:].values))\n",
    "print('mse',mse)\n",
    "rmse= np.sqrt(mse)\n",
    "print('rmse',rmse)"
   ]
  },
  {
   "cell_type": "code",
   "execution_count": 246,
   "id": "18ec7f2d",
   "metadata": {},
   "outputs": [
    {
     "name": "stdout",
     "output_type": "stream",
     "text": [
      "mse 0.8259656144294205\n",
      "rmse 0.9088265040311162\n"
     ]
    }
   ],
   "source": [
    "from sklearn.metrics import mean_squared_error\n",
    "mse= np.sqrt(mean_squared_error(df['CONSUMER CONF INDEX'][63:].values,df['mavg_6'][63:].values))\n",
    "print('mse',mse)\n",
    "rmse= np.sqrt(mse)\n",
    "print('rmse',rmse)"
   ]
  },
  {
   "cell_type": "code",
   "execution_count": 247,
   "id": "caf48841",
   "metadata": {},
   "outputs": [
    {
     "name": "stdout",
     "output_type": "stream",
     "text": [
      "mse 0.97127797046916\n",
      "rmse 0.9855343578329271\n"
     ]
    }
   ],
   "source": [
    "from sklearn.metrics import mean_squared_error\n",
    "mse= np.sqrt(mean_squared_error(df['CONSUMER CONF INDEX'][63:].values,df['mavg_9'][63:].values))\n",
    "print('mse',mse)\n",
    "rmse= np.sqrt(mse)\n",
    "print('rmse',rmse)"
   ]
  },
  {
   "cell_type": "code",
   "execution_count": 248,
   "id": "3d3e4ee4",
   "metadata": {},
   "outputs": [
    {
     "name": "stdout",
     "output_type": "stream",
     "text": [
      "mse 1.1075962798900885\n",
      "rmse 1.0524240019545774\n"
     ]
    }
   ],
   "source": [
    "from sklearn.metrics import mean_squared_error\n",
    "mse= np.sqrt(mean_squared_error(df['CONSUMER CONF INDEX'][63:].values,df['mavg_12'][63:].values))\n",
    "print('mse',mse)\n",
    "rmse= np.sqrt(mse)\n",
    "print('rmse',rmse)"
   ]
  },
  {
   "cell_type": "code",
   "execution_count": 249,
   "id": "ff77dc5c",
   "metadata": {},
   "outputs": [
    {
     "name": "stdout",
     "output_type": "stream",
     "text": [
      "mse 0.4735631344079022\n",
      "rmse 0.6881592362294516\n"
     ]
    }
   ],
   "source": [
    "from sklearn.metrics import mean_squared_error\n",
    "mse= np.sqrt(mean_squared_error(df['CONSUMER CONF INDEX'][63:].values,df['mavg_2'][63:].values))\n",
    "print('mse',mse)\n",
    "rmse= np.sqrt(mse)\n",
    "print('rmse',rmse)"
   ]
  },
  {
   "cell_type": "markdown",
   "id": "b818ff6f",
   "metadata": {},
   "source": [
    "### Forecasting Method 2:  Exponential Smoothing"
   ]
  },
  {
   "cell_type": "markdown",
   "id": "db090b69",
   "metadata": {},
   "source": [
    "### Model 1:  Using alpha = 0.2"
   ]
  },
  {
   "cell_type": "code",
   "execution_count": 250,
   "id": "3eda6c2b",
   "metadata": {},
   "outputs": [],
   "source": [
    "df['ewm0.2'] = df['CONSUMER CONF INDEX'].ewm( alpha = 0.2 ).mean()\n",
    "pd.options.display.float_format = '{:.2f}'.format"
   ]
  },
  {
   "cell_type": "code",
   "execution_count": 251,
   "id": "6c5edf02",
   "metadata": {},
   "outputs": [
    {
     "data": {
      "text/plain": [
       "0.54"
      ]
     },
     "execution_count": 251,
     "metadata": {},
     "output_type": "execute_result"
    }
   ],
   "source": [
    "get_mape(df['CONSUMER CONF INDEX'][63:].values,df['ewm0.2'][63:].values)"
   ]
  },
  {
   "cell_type": "code",
   "execution_count": 252,
   "id": "4c2974b0",
   "metadata": {},
   "outputs": [
    {
     "data": {
      "text/plain": [
       "0.6766163261919883"
      ]
     },
     "execution_count": 252,
     "metadata": {},
     "output_type": "execute_result"
    }
   ],
   "source": [
    "from sklearn.metrics import mean_squared_error\n",
    "mse= np.sqrt(mean_squared_error(df['CONSUMER CONF INDEX'][63:].values,df['ewm0.2'][63:].values))\n",
    "mse"
   ]
  },
  {
   "cell_type": "code",
   "execution_count": 253,
   "id": "4897fd8b",
   "metadata": {},
   "outputs": [
    {
     "data": {
      "text/plain": [
       "0.8225669128964453"
      ]
     },
     "execution_count": 253,
     "metadata": {},
     "output_type": "execute_result"
    }
   ],
   "source": [
    "rmse= np.sqrt(mse)\n",
    "rmse\n"
   ]
  },
  {
   "cell_type": "markdown",
   "id": "59fe03a5",
   "metadata": {},
   "source": [
    "### Model 2 : using alpha = 0.97"
   ]
  },
  {
   "cell_type": "code",
   "execution_count": 254,
   "id": "5bd37805",
   "metadata": {},
   "outputs": [],
   "source": [
    "df['ewm0.97'] = df['CONSUMER CONF INDEX'].ewm( alpha = 0.97 ).mean()\n",
    "pd.options.display.float_format = '{:.2f}'.format"
   ]
  },
  {
   "cell_type": "code",
   "execution_count": 255,
   "id": "c04f5559",
   "metadata": {},
   "outputs": [
    {
     "data": {
      "text/plain": [
       "0.01"
      ]
     },
     "execution_count": 255,
     "metadata": {},
     "output_type": "execute_result"
    }
   ],
   "source": [
    "get_mape(df['CONSUMER CONF INDEX'][63:].values,df['ewm0.97'][63:].values)"
   ]
  },
  {
   "cell_type": "code",
   "execution_count": 256,
   "id": "26394db6",
   "metadata": {},
   "outputs": [
    {
     "data": {
      "text/plain": [
       "0.01020865468619075"
      ]
     },
     "execution_count": 256,
     "metadata": {},
     "output_type": "execute_result"
    }
   ],
   "source": [
    "from sklearn.metrics import mean_squared_error\n",
    "mse= np.sqrt(mean_squared_error(df['CONSUMER CONF INDEX'][63:].values,df['ewm0.97'][63:].values))\n",
    "mse"
   ]
  },
  {
   "cell_type": "code",
   "execution_count": 257,
   "id": "b5b465a2",
   "metadata": {},
   "outputs": [
    {
     "data": {
      "text/plain": [
       "0.1010378873798871"
      ]
     },
     "execution_count": 257,
     "metadata": {},
     "output_type": "execute_result"
    }
   ],
   "source": [
    "rmse= np.sqrt(mse)\n",
    "rmse"
   ]
  },
  {
   "cell_type": "markdown",
   "id": "8595f179",
   "metadata": {},
   "source": [
    "## CONCLUSION FOR EXPONENTIAL SMOOTHING: ALPHA= 0.99 \n",
    "### While exponential smoothing at alpha = 0.99 outperformed when value of alpha was set to 0.2."
   ]
  },
  {
   "cell_type": "markdown",
   "id": "e8fdc557",
   "metadata": {},
   "source": [
    "## COMPARISON BETWEEN MOVING AVERAGE AND EXPONENTIAL SMOOTHING\n",
    "#### In comparison to moving average model, Exponential Smoothing Model has performed far more better as it gives comparatively lower MAPE, RMSE, and MSE. values"
   ]
  },
  {
   "cell_type": "markdown",
   "id": "72efebeb",
   "metadata": {},
   "source": [
    "### COMPREHENSIVE TABEL FOR MOVING AVERAGE & EXPONENTIAL SMOOTHING"
   ]
  },
  {
   "cell_type": "code",
   "execution_count": 258,
   "id": "a09c6950",
   "metadata": {},
   "outputs": [
    {
     "data": {
      "text/html": [
       "<div>\n",
       "<style scoped>\n",
       "    .dataframe tbody tr th:only-of-type {\n",
       "        vertical-align: middle;\n",
       "    }\n",
       "\n",
       "    .dataframe tbody tr th {\n",
       "        vertical-align: top;\n",
       "    }\n",
       "\n",
       "    .dataframe thead th {\n",
       "        text-align: right;\n",
       "    }\n",
       "</style>\n",
       "<table border=\"1\" class=\"dataframe\">\n",
       "  <thead>\n",
       "    <tr style=\"text-align: right;\">\n",
       "      <th></th>\n",
       "      <th>CONSUMER CONF INDEX</th>\n",
       "      <th>mavg_2</th>\n",
       "      <th>mavg_4</th>\n",
       "      <th>mavg_6</th>\n",
       "      <th>mavg_9</th>\n",
       "      <th>mavg_12</th>\n",
       "      <th>ewm0.2</th>\n",
       "      <th>ewm0.97</th>\n",
       "    </tr>\n",
       "    <tr>\n",
       "      <th>TIME</th>\n",
       "      <th></th>\n",
       "      <th></th>\n",
       "      <th></th>\n",
       "      <th></th>\n",
       "      <th></th>\n",
       "      <th></th>\n",
       "      <th></th>\n",
       "      <th></th>\n",
       "    </tr>\n",
       "  </thead>\n",
       "  <tbody>\n",
       "    <tr>\n",
       "      <th>2014-01-01</th>\n",
       "      <td>99.34</td>\n",
       "      <td>NaN</td>\n",
       "      <td>NaN</td>\n",
       "      <td>NaN</td>\n",
       "      <td>NaN</td>\n",
       "      <td>NaN</td>\n",
       "      <td>99.34</td>\n",
       "      <td>99.34</td>\n",
       "    </tr>\n",
       "    <tr>\n",
       "      <th>2014-02-01</th>\n",
       "      <td>99.41</td>\n",
       "      <td>NaN</td>\n",
       "      <td>NaN</td>\n",
       "      <td>NaN</td>\n",
       "      <td>NaN</td>\n",
       "      <td>NaN</td>\n",
       "      <td>99.38</td>\n",
       "      <td>99.41</td>\n",
       "    </tr>\n",
       "    <tr>\n",
       "      <th>2014-03-01</th>\n",
       "      <td>99.44</td>\n",
       "      <td>99.37</td>\n",
       "      <td>NaN</td>\n",
       "      <td>NaN</td>\n",
       "      <td>NaN</td>\n",
       "      <td>NaN</td>\n",
       "      <td>99.40</td>\n",
       "      <td>99.44</td>\n",
       "    </tr>\n",
       "    <tr>\n",
       "      <th>2014-04-01</th>\n",
       "      <td>99.52</td>\n",
       "      <td>99.43</td>\n",
       "      <td>NaN</td>\n",
       "      <td>NaN</td>\n",
       "      <td>NaN</td>\n",
       "      <td>NaN</td>\n",
       "      <td>99.44</td>\n",
       "      <td>99.52</td>\n",
       "    </tr>\n",
       "    <tr>\n",
       "      <th>2014-05-01</th>\n",
       "      <td>99.50</td>\n",
       "      <td>99.48</td>\n",
       "      <td>99.43</td>\n",
       "      <td>NaN</td>\n",
       "      <td>NaN</td>\n",
       "      <td>NaN</td>\n",
       "      <td>99.46</td>\n",
       "      <td>99.51</td>\n",
       "    </tr>\n",
       "    <tr>\n",
       "      <th>...</th>\n",
       "      <td>...</td>\n",
       "      <td>...</td>\n",
       "      <td>...</td>\n",
       "      <td>...</td>\n",
       "      <td>...</td>\n",
       "      <td>...</td>\n",
       "      <td>...</td>\n",
       "      <td>...</td>\n",
       "    </tr>\n",
       "    <tr>\n",
       "      <th>2022-05-01</th>\n",
       "      <td>96.50</td>\n",
       "      <td>96.93</td>\n",
       "      <td>97.17</td>\n",
       "      <td>97.40</td>\n",
       "      <td>97.70</td>\n",
       "      <td>98.16</td>\n",
       "      <td>97.45</td>\n",
       "      <td>96.51</td>\n",
       "    </tr>\n",
       "    <tr>\n",
       "      <th>2022-06-01</th>\n",
       "      <td>96.50</td>\n",
       "      <td>96.67</td>\n",
       "      <td>96.90</td>\n",
       "      <td>97.17</td>\n",
       "      <td>97.47</td>\n",
       "      <td>97.89</td>\n",
       "      <td>97.26</td>\n",
       "      <td>96.50</td>\n",
       "    </tr>\n",
       "    <tr>\n",
       "      <th>2022-07-01</th>\n",
       "      <td>96.50</td>\n",
       "      <td>96.50</td>\n",
       "      <td>96.71</td>\n",
       "      <td>96.95</td>\n",
       "      <td>97.28</td>\n",
       "      <td>97.62</td>\n",
       "      <td>97.10</td>\n",
       "      <td>96.50</td>\n",
       "    </tr>\n",
       "    <tr>\n",
       "      <th>2022-08-01</th>\n",
       "      <td>96.50</td>\n",
       "      <td>96.50</td>\n",
       "      <td>96.58</td>\n",
       "      <td>96.77</td>\n",
       "      <td>97.10</td>\n",
       "      <td>97.40</td>\n",
       "      <td>96.98</td>\n",
       "      <td>96.50</td>\n",
       "    </tr>\n",
       "    <tr>\n",
       "      <th>2022-09-01</th>\n",
       "      <td>96.66</td>\n",
       "      <td>96.50</td>\n",
       "      <td>96.50</td>\n",
       "      <td>96.64</td>\n",
       "      <td>96.94</td>\n",
       "      <td>97.23</td>\n",
       "      <td>96.92</td>\n",
       "      <td>96.66</td>\n",
       "    </tr>\n",
       "  </tbody>\n",
       "</table>\n",
       "<p>105 rows × 8 columns</p>\n",
       "</div>"
      ],
      "text/plain": [
       "            CONSUMER CONF INDEX  mavg_2  mavg_4  mavg_6  mavg_9  mavg_12  \\\n",
       "TIME                                                                       \n",
       "2014-01-01                99.34     NaN     NaN     NaN     NaN      NaN   \n",
       "2014-02-01                99.41     NaN     NaN     NaN     NaN      NaN   \n",
       "2014-03-01                99.44   99.37     NaN     NaN     NaN      NaN   \n",
       "2014-04-01                99.52   99.43     NaN     NaN     NaN      NaN   \n",
       "2014-05-01                99.50   99.48   99.43     NaN     NaN      NaN   \n",
       "...                         ...     ...     ...     ...     ...      ...   \n",
       "2022-05-01                96.50   96.93   97.17   97.40   97.70    98.16   \n",
       "2022-06-01                96.50   96.67   96.90   97.17   97.47    97.89   \n",
       "2022-07-01                96.50   96.50   96.71   96.95   97.28    97.62   \n",
       "2022-08-01                96.50   96.50   96.58   96.77   97.10    97.40   \n",
       "2022-09-01                96.66   96.50   96.50   96.64   96.94    97.23   \n",
       "\n",
       "            ewm0.2  ewm0.97  \n",
       "TIME                         \n",
       "2014-01-01   99.34    99.34  \n",
       "2014-02-01   99.38    99.41  \n",
       "2014-03-01   99.40    99.44  \n",
       "2014-04-01   99.44    99.52  \n",
       "2014-05-01   99.46    99.51  \n",
       "...            ...      ...  \n",
       "2022-05-01   97.45    96.51  \n",
       "2022-06-01   97.26    96.50  \n",
       "2022-07-01   97.10    96.50  \n",
       "2022-08-01   96.98    96.50  \n",
       "2022-09-01   96.92    96.66  \n",
       "\n",
       "[105 rows x 8 columns]"
      ]
     },
     "execution_count": 258,
     "metadata": {},
     "output_type": "execute_result"
    }
   ],
   "source": [
    "df.iloc[:,[0,1,2,3,4,5,6,7]]"
   ]
  }
 ],
 "metadata": {
  "kernelspec": {
   "display_name": "Python 3 (ipykernel)",
   "language": "python",
   "name": "python3"
  },
  "language_info": {
   "codemirror_mode": {
    "name": "ipython",
    "version": 3
   },
   "file_extension": ".py",
   "mimetype": "text/x-python",
   "name": "python",
   "nbconvert_exporter": "python",
   "pygments_lexer": "ipython3",
   "version": "3.9.12"
  }
 },
 "nbformat": 4,
 "nbformat_minor": 5
}
